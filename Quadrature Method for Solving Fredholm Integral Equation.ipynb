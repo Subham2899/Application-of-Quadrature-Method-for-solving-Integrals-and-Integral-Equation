{
 "cells": [
  {
   "cell_type": "code",
   "execution_count": 18,
   "metadata": {},
   "outputs": [],
   "source": [
    "import numpy as np\n",
    "import pandas as pd\n",
    "import sympy as sym\n",
    "import scipy as sp \n",
    "import scipy.interpolate\n",
    "import matplotlib.pyplot as plt\n",
    "from scipy.interpolate import make_interp_spline\n",
    "x=sym.Symbol('x')\n",
    "t=sym.Symbol('t')"
   ]
  },
  {
   "cell_type": "code",
   "execution_count": 19,
   "metadata": {},
   "outputs": [],
   "source": [
    "def f(x):\n",
    "    return 1+x\n",
    "def Ker(x,t):\n",
    "    return -(np.sqrt(x)+np.sqrt(t))\n",
    "def s(t):\n",
    "    return (1-t**2)**(1/2)\n",
    "def P(t):\n",
    "    return (b-a)/2*t+(b+a)/2\n",
    "#Exact answer\n",
    "def g(x):\n",
    "    return -129/70-141/35*np.sqrt(x)+x"
   ]
  },
  {
   "cell_type": "code",
   "execution_count": 20,
   "metadata": {},
   "outputs": [],
   "source": [
    "a=0\n",
    "b=1\n",
    "n=4"
   ]
  },
  {
   "cell_type": "code",
   "execution_count": 21,
   "metadata": {},
   "outputs": [],
   "source": [
    "#Fredholm Second Kind by Simpson's 1/3rd Rule\n",
    "x_1=[]\n",
    "h=(b-a)/n\n",
    "for i in range(n+1):\n",
    "    x_1.append(a+i*h)\n",
    "K=np.zeros([n+1,n+1])\n",
    "for i in range(n+1):\n",
    "    for j in range(n+1):\n",
    "        if(j==0 or j==n):\n",
    "            K[i,j]=h/3*Ker(a+i*h,a+j*h)\n",
    "        elif(j!=0 and j!=n and j%2==1):\n",
    "            K[i,j]=(4/3)*h*Ker(a+i*h,a+j*h)\n",
    "        else:\n",
    "            K[i,j]=(2/3)*h*Ker(a+i*h,a+j*h)\n",
    "        if(i==j):\n",
    "            K[i,j]=1+K[i,j]\n",
    "F=np.zeros(n+1)\n",
    "for i in range(n+1):\n",
    "    F[i]=f(a+i*h)\n",
    "phi=np.linalg.solve(K,F)\n",
    "r_phi=np.round_(phi,decimals=4)"
   ]
  },
  {
   "cell_type": "code",
   "execution_count": 22,
   "metadata": {},
   "outputs": [],
   "source": [
    "#Exact solution\n",
    "G=np.zeros(n+1)\n",
    "for i in range(n+1):\n",
    "    G[i]=g(x_1[i])\n",
    "r_G=np.round(G,decimals=4)"
   ]
  },
  {
   "cell_type": "code",
   "execution_count": 23,
   "metadata": {},
   "outputs": [],
   "source": [
    "#Using Chebyshev Method\n",
    "w=np.pi/(n+1)\n",
    "Ker_mat=np.zeros([n+1,n+1])\n",
    "x_k=[]\n",
    "PP=np.zeros(n+1)\n",
    "for k in range(n+1):\n",
    "    xx=np.cos((2*k+1)*np.pi/(2*n+2))\n",
    "    x_k.append(xx)\n",
    "for i in range(n+1):\n",
    "    for j in range(n+1):\n",
    "        Ker_mat[i,j]=w*Ker(P(x_k[i]),P(x_k[j]))*s(x_k[j])*(b-a)/2\n",
    "        PP[i]=P(x_k[i])\n",
    "        if(i==j):\n",
    "            Ker_mat[i,j]=1+Ker_mat[i,j]\n",
    "F=np.zeros(n+1)\n",
    "for i in range(n+1):\n",
    "    F[i]=f(P(x_k[i]))\n",
    "phi2=np.linalg.solve(Ker_mat,F)"
   ]
  },
  {
   "cell_type": "code",
   "execution_count": 24,
   "metadata": {},
   "outputs": [],
   "source": [
    "inter_f=sp.interpolate.interp1d(x_1,phi,kind='quadratic')\n",
    "t_new=np.arange(a,b+0.00001,0.0001)\n",
    "f_quad=inter_f(t_new)\n",
    "G_new=g(t_new)"
   ]
  },
  {
   "cell_type": "code",
   "execution_count": 26,
   "metadata": {},
   "outputs": [],
   "source": [
    "pol = np.polyfit(PP,phi2,len(PP)-1)\n",
    "pol1 = np.polyfit(x_1,phi,len(x_1)-1)\n",
    "PP1 = np.linspace(min(PP),max(PP))\n",
    "nn=4\n",
    "x1=np.zeros(nn+1)\n",
    "xx=np.zeros(nn+1)\n",
    "hh=(b-a)/nn\n",
    "for i in range(nn+1):\n",
    "    xx[i]=a+i*hh\n",
    "phi_exact=g(xx)\n",
    "phi_1=np.polyval(pol1,xx)\n",
    "phi_2=np.polyval(pol,xx)"
   ]
  },
  {
   "cell_type": "code",
   "execution_count": 27,
   "metadata": {},
   "outputs": [],
   "source": [
    "df=np.round(pd.DataFrame({'x':xx,'$\\phi_e(x)$':phi_exact,'$\\phi_s(x)$':phi_1,'$\\phi_c(x)$':phi_2,'$E_s=|\\phi_e(x)-\\phi_s(x)|$':abs(phi_1-phi_exact),'$E_c=|\\phi_e(x)-\\phi_c(x)|$':abs(phi_2-phi_exact)}).T,4)\n",
    "df.to_excel(excel_writer=\"C:/Users/Subham/Documents/Internship/3.xlsx\")"
   ]
  },
  {
   "cell_type": "code",
   "execution_count": 28,
   "metadata": {},
   "outputs": [
    {
     "data": {
      "text/html": [
       "<div>\n",
       "<style scoped>\n",
       "    .dataframe tbody tr th:only-of-type {\n",
       "        vertical-align: middle;\n",
       "    }\n",
       "\n",
       "    .dataframe tbody tr th {\n",
       "        vertical-align: top;\n",
       "    }\n",
       "\n",
       "    .dataframe thead th {\n",
       "        text-align: right;\n",
       "    }\n",
       "</style>\n",
       "<table border=\"1\" class=\"dataframe\">\n",
       "  <thead>\n",
       "    <tr style=\"text-align: right;\">\n",
       "      <th></th>\n",
       "      <th>Unnamed: 0</th>\n",
       "      <th>0</th>\n",
       "      <th>1</th>\n",
       "      <th>2</th>\n",
       "      <th>3</th>\n",
       "      <th>4</th>\n",
       "    </tr>\n",
       "  </thead>\n",
       "  <tbody>\n",
       "    <tr>\n",
       "      <th>0</th>\n",
       "      <td>x</td>\n",
       "      <td>0.0000</td>\n",
       "      <td>0.2500</td>\n",
       "      <td>0.5000</td>\n",
       "      <td>0.7500</td>\n",
       "      <td>1.0000</td>\n",
       "    </tr>\n",
       "    <tr>\n",
       "      <th>1</th>\n",
       "      <td>$\\phi_e(x)$</td>\n",
       "      <td>-1.8429</td>\n",
       "      <td>-3.6071</td>\n",
       "      <td>-4.1915</td>\n",
       "      <td>-4.5817</td>\n",
       "      <td>-4.8714</td>\n",
       "    </tr>\n",
       "    <tr>\n",
       "      <th>2</th>\n",
       "      <td>$\\phi_s(x)$</td>\n",
       "      <td>-1.9135</td>\n",
       "      <td>-3.7212</td>\n",
       "      <td>-4.3235</td>\n",
       "      <td>-4.7275</td>\n",
       "      <td>-5.0289</td>\n",
       "    </tr>\n",
       "    <tr>\n",
       "      <th>3</th>\n",
       "      <td>$\\phi_c(x)$</td>\n",
       "      <td>-2.1347</td>\n",
       "      <td>-3.4486</td>\n",
       "      <td>-3.9880</td>\n",
       "      <td>-4.3492</td>\n",
       "      <td>-4.6163</td>\n",
       "    </tr>\n",
       "    <tr>\n",
       "      <th>4</th>\n",
       "      <td>$E_s=|\\phi_e(x)-\\phi_s(x)|$</td>\n",
       "      <td>0.0707</td>\n",
       "      <td>0.1140</td>\n",
       "      <td>0.1320</td>\n",
       "      <td>0.1458</td>\n",
       "      <td>0.1574</td>\n",
       "    </tr>\n",
       "    <tr>\n",
       "      <th>5</th>\n",
       "      <td>$E_c=|\\phi_e(x)-\\phi_c(x)|$</td>\n",
       "      <td>0.2919</td>\n",
       "      <td>0.1586</td>\n",
       "      <td>0.2035</td>\n",
       "      <td>0.2325</td>\n",
       "      <td>0.2552</td>\n",
       "    </tr>\n",
       "  </tbody>\n",
       "</table>\n",
       "</div>"
      ],
      "text/plain": [
       "                    Unnamed: 0       0       1       2       3       4\n",
       "0                            x  0.0000  0.2500  0.5000  0.7500  1.0000\n",
       "1                  $\\phi_e(x)$ -1.8429 -3.6071 -4.1915 -4.5817 -4.8714\n",
       "2                  $\\phi_s(x)$ -1.9135 -3.7212 -4.3235 -4.7275 -5.0289\n",
       "3                  $\\phi_c(x)$ -2.1347 -3.4486 -3.9880 -4.3492 -4.6163\n",
       "4  $E_s=|\\phi_e(x)-\\phi_s(x)|$  0.0707  0.1140  0.1320  0.1458  0.1574\n",
       "5  $E_c=|\\phi_e(x)-\\phi_c(x)|$  0.2919  0.1586  0.2035  0.2325  0.2552"
      ]
     },
     "execution_count": 28,
     "metadata": {},
     "output_type": "execute_result"
    }
   ],
   "source": [
    "pd.read_excel('3.xlsx')"
   ]
  },
  {
   "cell_type": "code",
   "execution_count": 29,
   "metadata": {},
   "outputs": [],
   "source": [
    "n_=100\n",
    "x1=np.zeros(n_+1)\n",
    "xx_=np.zeros(n_+1)\n",
    "hh=(b-a)/n_\n",
    "for i in range(n_+1):\n",
    "    xx_[i]=a+i*hh\n",
    "phi_exact_=g(xx)\n",
    "phi_1_=np.polyval(pol1,xx_)\n",
    "phi_2_=np.polyval(pol,xx_)"
   ]
  },
  {
   "cell_type": "code",
   "execution_count": 30,
   "metadata": {},
   "outputs": [
    {
     "data": {
      "image/png": "[encoded data removed]",
      "text/plain": [
       "<Figure size 432x288 with 1 Axes>"
      ]
     },
     "metadata": {
      "needs_background": "light"
     },
     "output_type": "display_data"
    }
   ],
   "source": [
    "plt.plot(t_new,G_new,'b-',t_new,f_quad,'g--',xx_,phi_2_,'r--')\n",
    "plt.xlabel(\"$x ---->$\")\n",
    "plt.ylabel(\"$\\phi(x) ---->$\")\n",
    "colors = ['blue', 'green', 'red']\n",
    "plt.legend(['$\\phi_e(x)$','$\\phi_s(x)$','$\\phi_c(x)$'])\n",
    "plt.savefig(\"3.jpg\", format=\"jpg\", dpi=300)\n",
    "plt.show()"
   ]
  }
 ],
 "metadata": {
  "kernelspec": {
   "display_name": "Python 3",
   "language": "python",
   "name": "python3"
  },
  "language_info": {
   "codemirror_mode": {
    "name": "ipython",
    "version": 3
   },
   "file_extension": ".py",
   "mimetype": "text/x-python",
   "name": "python",
   "nbconvert_exporter": "python",
   "pygments_lexer": "ipython3",
   "version": "3.8.5"
  }
 },
 "nbformat": 4,
 "nbformat_minor": 4
}
